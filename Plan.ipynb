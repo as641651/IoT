{
 "cells": [
  {
   "cell_type": "markdown",
   "metadata": {},
   "source": [
    "## Plan"
   ]
  },
  {
   "cell_type": "markdown",
   "metadata": {},
   "source": [
    "> 1) **Storing data in the server**\n",
    "\n",
    ">> a) **Revise Django**. Set up a project that **receives data and stores them** in Django DB or SQLite DB in the server.\n",
    "\n",
    ">> b) **Revise GCP** and **host Django server in a docker container**. Deploy the same container in your PC.\n",
    "\n",
    ">> c) Build a simple android app that will test the server (Instagram, uber, live streaming from android camera to desktop)\n",
    "\n",
    "> 2) **Processing data in the server**\n",
    "\n",
    ">> a) Possibly, we need a setting that will **receive data, process it (in TensorFlow)**. The matching **result** should be available on request from **a separate API**\n",
    "\n",
    ">> b) Build a simple android app that will test the server.\n",
    "\n",
    "> 3) **Arduino**\n",
    "\n",
    ">> a) Get familiar with **ardunio**.\n",
    "\n",
    ">> b) This device should be able to **send data from sensors to server** and **also to other networked devices**.\n",
    "\n",
    ">> c) This device should be able to **receieve instructions from other networked devices** over Wifi.\n",
    "\n",
    ">> d) Build an android app that will control arduino.\n",
    "\n",
    ">> e) Design a project where, **arduino will send data to server which will process it in tensorflow**. An **android app should be able to monitor this data and send instructions to arduino**\n",
    "\n",
    "> 4) **Raspberry pi**\n",
    "\n",
    ">> a) Use **raspberry pi as a server**\n",
    "\n",
    ">> b) Interface **USB webcam with raspberrypi and contol this camera from an android app**\n",
    "\n",
    ">> c) Design a project where, an android app starts the camera, the video should be streamed to desktop where face detection will be performed and the results should be available in the app through an API .\n",
    "\n",
    "> 5) **Process data in the device**\n",
    "\n",
    ">> a) Get familiar with **Tensorflow Lite**\n",
    "\n",
    ">> b) Build android apps with TF Lite (Face detection on images streamed from raspberry pi camera)\n",
    "\n",
    ">> c) Get familiar with **Tensorflow JS**\n",
    "\n",
    ">> d) Build something that ll use TF JS (Face detection on images streamed from raspberry pi camera)"
   ]
  },
  {
   "cell_type": "code",
   "execution_count": null,
   "metadata": {},
   "outputs": [],
   "source": []
  }
 ],
 "metadata": {
  "kernelspec": {
   "display_name": "Python 3",
   "language": "python",
   "name": "python3"
  },
  "language_info": {
   "codemirror_mode": {
    "name": "ipython",
    "version": 3
   },
   "file_extension": ".py",
   "mimetype": "text/x-python",
   "name": "python",
   "nbconvert_exporter": "python",
   "pygments_lexer": "ipython3",
   "version": "3.4.3"
  }
 },
 "nbformat": 4,
 "nbformat_minor": 2
}
