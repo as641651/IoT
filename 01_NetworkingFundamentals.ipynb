{
 "cells": [
  {
   "cell_type": "markdown",
   "metadata": {},
   "source": [
    "## Networking fundamentals"
   ]
  },
  {
   "cell_type": "markdown",
   "metadata": {},
   "source": [
    "### 1) IPv4\n",
    "\n",
    "> Its a 32 bit long address assigned to a network device\n",
    "\n",
    ">> **{8 bit}.{8 bit}.{8 bit}.{8 bit}**\n",
    "\n",
    ">> Each of the four segments range from **0-255**"
   ]
  },
  {
   "cell_type": "markdown",
   "metadata": {},
   "source": [
    "### 2) Subnet mask\n",
    "\n",
    "> a) Subnet mask identifies which bits of the IP address are **network bits** and which bits are **host bits**\n",
    "\n",
    "> b) In order to **communicate over a local network, network bits should match**. If the network bits dont match, the request will be routed to the gateway, which will search for the IP in the world wide web through DNS server.\n",
    "\n",
    ">> **Eg** : \n",
    "\n",
    "<img src=\"files/subnet2.png\" width=500px/>\n",
    "\n",
    ">> **Alternate representation : 200.191.127.65/24** impiles the **IP address has the first 24 bits as subnet mask**\n",
    "\n",
    "> c) If we use subnet mask **0.0.0.0**, then we can **never contact the internet**. The router will try to find all the IP address in the LAN\n",
    "\n",
    "> d) If we use a **subnet mask that conflicts with any of the IP address in the internet, we will not be able to request that page**\n",
    "\n",
    "> e) Hence there are a **list of IP address ranges that are not assigned as public IP**\n",
    "\n",
    "<img src=\"files/ipreserved.png\" width=500px/>\n",
    "\n",
    "> f) IP address to **avoid**\n",
    "\n",
    "<img src=\"files/ipavoid.png\" width=500px/>"
   ]
  },
  {
   "cell_type": "markdown",
   "metadata": {},
   "source": [
    "> **ACCEPTED flags for SUBNET MASK** (All 0s should always succeed 1s)\n",
    "\n",
    "<img src=\"files/subnetflag.png\" width=500px/>"
   ]
  },
  {
   "cell_type": "markdown",
   "metadata": {},
   "source": [
    "## 3) Gateway\n",
    "\n",
    "> a) IP address of the **router**.\n",
    "\n",
    "> b) Entering this IP address on the browser will let us **login** to the router\n",
    "\n",
    "> c) If an IP address is not available on LAN, it will be **redirected to the gateway, from where it will contact the internet**"
   ]
  },
  {
   "cell_type": "markdown",
   "metadata": {},
   "source": [
    "### 4) Firewall\n",
    "\n",
    "> a) By default, devices from **outside the LAN cannot access the devices in network**\n",
    "\n",
    "> b) To allow access, it has to comply to certain protocols, like\n",
    "\n",
    ">> **Port forwarding** : Certain ports on the IP address are open. For eg, port 80 is open by default for HTTP access\n",
    "\n",
    ">> **Demilitrized zone (DMZ)** : All external connections are **redirected to a separate system** called **DMZ**\n",
    "\n",
    ">> **VPN**: DMZ machine authenticate external connections and **virtualize the external device as a part of the network**\n",
    "\n",
    "<img src=\"files/gateway_nat_firewall.png\" width=500px />"
   ]
  },
  {
   "cell_type": "markdown",
   "metadata": {},
   "source": [
    "### 5) Domain Name Service (DNS) \n",
    "\n",
    "> a) Its a server that hold the **map of URL to public IP addresses**\n",
    "\n",
    "> b) By default, **router holds the DNS server address**. Therefore, most of the time, **DNS server is same as Gateway IP**\n",
    "\n",
    "> c) There can be more DNS server. The IP addresses are searched from **top to bottom in the list of DNS servers**. DNS servers can be edited by **logging into router**"
   ]
  },
  {
   "cell_type": "markdown",
   "metadata": {},
   "source": [
    "### 6) MAC address\n",
    "\n",
    "> a) **Media Access Control address** is the **address of the device**, which is usually encoded in the **network interface card**. This address is a **physical identity for the device**"
   ]
  },
  {
   "cell_type": "markdown",
   "metadata": {},
   "source": [
    "### 7) DHCP\n",
    "\n",
    "> a) **Dynamic host config protocol** assigns **IP address** to **new devices** joining the network.\n",
    "\n",
    "> b) It maps the MAC addrress to an **IP address in the range that is allowed by the subnet mask**"
   ]
  },
  {
   "cell_type": "markdown",
   "metadata": {},
   "source": [
    "## References\n",
    "\n",
    "> 1) **[OSI model](https://www.youtube.com/watch?v=vv4y_uOneC0&list=LLkBNnj7SIY5bGCLX0wPOgng&index=3&t=0s)**\n",
    "\n",
    "> 2) **[Network fundamentals](https://www.youtube.com/playlist?list=PLrXNpNQ0Imr5plps5bSD2mgUjZtTMF8d5)**\n",
    "\n",
    "> 3) **[Understanding IP address](https://www.youtube.com/watch?v=LxNgWsseE0w)**"
   ]
  },
  {
   "cell_type": "code",
   "execution_count": null,
   "metadata": {},
   "outputs": [],
   "source": []
  }
 ],
 "metadata": {
  "kernelspec": {
   "display_name": "Python 3",
   "language": "python",
   "name": "python3"
  },
  "language_info": {
   "codemirror_mode": {
    "name": "ipython",
    "version": 3
   },
   "file_extension": ".py",
   "mimetype": "text/x-python",
   "name": "python",
   "nbconvert_exporter": "python",
   "pygments_lexer": "ipython3",
   "version": "3.4.3"
  }
 },
 "nbformat": 4,
 "nbformat_minor": 2
}
