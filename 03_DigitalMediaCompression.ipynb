{
 "cells": [
  {
   "cell_type": "markdown",
   "metadata": {},
   "source": [
    "## Digital media compression - Codec\n",
    "\n",
    "**Codec** is a standard for **encoding and decoding digital media**.\n",
    "\n",
    "This is a huge subject. For now, just understand various **codec standards** (Newer standards like **H264, H265** will be faster withe better compression)\n",
    "\n",
    "Codec is implemented using several libraries. The standard library is **ffmpeg**\n",
    "\n",
    "> 1) [Digital video introduction](https://github.com/leandromoreira/digital_video_introduction)\n",
    "\n",
    "> 2) [FFMPEG tutorial](https://github.com/leandromoreira/ffmpeg-libav-tutorial)"
   ]
  },
  {
   "cell_type": "code",
   "execution_count": null,
   "metadata": {},
   "outputs": [],
   "source": []
  }
 ],
 "metadata": {
  "kernelspec": {
   "display_name": "Python 3",
   "language": "python",
   "name": "python3"
  },
  "language_info": {
   "codemirror_mode": {
    "name": "ipython",
    "version": 3
   },
   "file_extension": ".py",
   "mimetype": "text/x-python",
   "name": "python",
   "nbconvert_exporter": "python",
   "pygments_lexer": "ipython3",
   "version": "3.4.3"
  }
 },
 "nbformat": 4,
 "nbformat_minor": 2
}
