{
 "cells": [
  {
   "cell_type": "markdown",
   "metadata": {},
   "source": [
    "## HTTP vs WebSockets vs WebRTC"
   ]
  },
  {
   "cell_type": "markdown",
   "metadata": {},
   "source": [
    "> **HTTP**\n",
    "\n",
    ">> a) It is a **half duplex**(uni directional) communication.\n",
    "\n",
    ">> b) Implemented over **TCP**\n",
    "\n",
    ">> c) All applications using **[DjangoRESTAPI](https://github.com/as641651/DjangoRestAPI)** make use of HTTP\n",
    "\n",
    "> **WebSockets** : \n",
    "\n",
    ">> a) **Full duplex** (bi-directional) communication is established between **client and server**\n",
    "\n",
    ">> b) **Connection** between two clients should **pass through a server**\n",
    "\n",
    ">> c) Implemted over **TCP**\n",
    "\n",
    ">> d) Preferred for applications where data has to be **processed in the server**\n",
    "\n",
    ">> e) All applications using **[DjangoChannels](https://github.com/as641651/DjangoChannels)** make use of websockets\n",
    "\n",
    "> **WebRTC** :\n",
    "\n",
    ">> a) Connection between clients **without passing through server**. This is called **peer-to-peer connectivity**\n",
    "\n",
    ">> b) It is based on **SDP** (Socket direct protocol)\n",
    "\n",
    ">> c) This is designed in such a way that the data will remain **encrypted between clients**. So the server **cant access the data**. \n",
    "\n",
    ">> d) This is preferred for applications which requires **access of clients device**(sensor) or **memory** from another client\n",
    "\n",
    ">> e) **RTSP** (Real time streaming protocol) specifies the format of such streaming transmission for audio and video data."
   ]
  },
  {
   "cell_type": "markdown",
   "metadata": {},
   "source": [
    "<img src=\"files/socketRTC.png\" />"
   ]
  },
  {
   "cell_type": "code",
   "execution_count": null,
   "metadata": {},
   "outputs": [],
   "source": []
  }
 ],
 "metadata": {
  "kernelspec": {
   "display_name": "Python 3",
   "language": "python",
   "name": "python3"
  },
  "language_info": {
   "codemirror_mode": {
    "name": "ipython",
    "version": 3
   },
   "file_extension": ".py",
   "mimetype": "text/x-python",
   "name": "python",
   "nbconvert_exporter": "python",
   "pygments_lexer": "ipython3",
   "version": "3.4.3"
  }
 },
 "nbformat": 4,
 "nbformat_minor": 2
}
